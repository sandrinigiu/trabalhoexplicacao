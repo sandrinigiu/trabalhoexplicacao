{
  "nbformat": 4,
  "nbformat_minor": 0,
  "metadata": {
    "colab": {
      "name": "Untitled0.ipynb",
      "provenance": []
    },
    "kernelspec": {
      "name": "python3",
      "display_name": "Python 3"
    },
    "language_info": {
      "name": "python"
    }
  },
  "cells": [
    {
      "cell_type": "code",
      "source": [
        "import cv2\n",
        "import numpy as np\n",
        "import matplotlib.pyplot as plt\n",
        "from google.colab.patches import cv2_imshow"
      ],
      "metadata": {
        "id": "yFk9RJs7EASf"
      },
      "execution_count": null,
      "outputs": []
    },
    {
      "cell_type": "code",
      "execution_count": null,
      "metadata": {
        "id": "YWpBQZfsD6Yf"
      },
      "outputs": [],
      "source": [
        "#negativo\n",
        "\n",
        "#img_negative[ : , : ,0] = 255 - img[ : , : ,0]\n",
        "#img_negative[ : , : ,1] = 255 - img[ : , : ,1]\n",
        "#img_negative[ : , : ,2] = 255 - img[ : , : ,2]\n",
        "\n",
        "#img_in = cv2.imread('data/Fig0304(a)(breast_digital_Xray).tif',1)\n",
        "img_in = cv2.imread('data/t1.jpg',0)\n",
        "\n",
        "img_out = 255 - img_in\n",
        "\n",
        "cv2_imshow(img_in)\n",
        "cv2_imshow(img_out)\n",
        "'''\n",
        "cv2_imshow('in', img_in)\n",
        "cv2.waitKey(0)\n",
        "cv2.imshow('out', img_out)\n",
        "cv2.waitKey(0)\n",
        "cv2.destroyAllWindows()\n",
        "'''"
      ]
    }
  ]
}